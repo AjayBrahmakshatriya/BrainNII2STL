{
 "cells": [
  {
   "cell_type": "code",
   "execution_count": 1,
   "id": "10d70c91",
   "metadata": {},
   "outputs": [],
   "source": [
    "import nibabel as nib\n",
    "import numpy as np\n",
    "from stl import mesh\n",
    "from skimage import measure\n",
    "import scipy\n",
    "import sys\n",
    "import matplotlib.pyplot as plt"
   ]
  },
  {
   "cell_type": "code",
   "execution_count": 2,
   "id": "494041d5",
   "metadata": {},
   "outputs": [],
   "source": [
    "# parameters\n",
    "\n",
    "infile = \"my_brain.nii\"\n",
    "outfile = \"segment.stl\"\n",
    "\n",
    "thresholds = [[70, 70, 120],\n",
    "             [160, 150, 230]]\n",
    "\n",
    "xbounds = [72, 174]\n",
    "ybounds = [70]\n",
    "\n",
    "data_sigma = 0.4\n",
    "mask_sigma = 5"
   ]
  },
  {
   "cell_type": "code",
   "execution_count": 3,
   "id": "96d2df7b",
   "metadata": {},
   "outputs": [],
   "source": [
    "# load file \n",
    "nifti = nib.load(infile)\n",
    "data = nifti.get_fdata()\n",
    "\n",
    "# normalize data \n",
    "# data = data/data.max()\n",
    "\n",
    "# swap the axes so it is easier to process\n",
    "data = np.swapaxes(data, 0, 2)\n",
    "\n",
    "# prepare mask \n",
    "\n",
    "mask = np.zeros(data.shape)\n",
    "\n",
    "ybounds_use = [0] + ybounds + [data.shape[0]]\n",
    "xbounds_use = [0] + xbounds + [data.shape[1]]\n",
    "\n",
    "for yidx in range (1, len(ybounds_use)):\n",
    "    ymin = ybounds_use[yidx-1]\n",
    "    ymax = ybounds_use[yidx]\n",
    "    for xidx in range (1, len(xbounds_use)):\n",
    "        xmin = xbounds_use[xidx-1]\n",
    "        xmax = xbounds_use[xidx]\n",
    "        t = thresholds[yidx-1][xidx-1]\n",
    "        mask[ymin:ymax, xmin:xmax, :] = t\n",
    "\n",
    "#blur the mask\n",
    "mask = scipy.ndimage.gaussian_filter(mask, sigma = mask_sigma)\n",
    "        \n",
    "# apply mask\n",
    "data[data<mask] = 0\n",
    "\n",
    "# blur the data\n",
    "\n",
    "data = scipy.ndimage.gaussian_filter(data, sigma = data_sigma)\n",
    "\n",
    "# apply mask again\n",
    "data[data<mask] = 0\n",
    "\n",
    "\n",
    "# swap indices back\n",
    "\n",
    "data = np.swapaxes(data, 0, 2)\n",
    "\n",
    "# save data as stl\n",
    "verts, faces, normals, values = measure.marching_cubes(data, 0.0)\n",
    "obj = mesh.Mesh(np.zeros(faces.shape[0], dtype=mesh.Mesh.dtype))\n",
    "for i, f in enumerate(faces):\n",
    "    obj.vectors[i] = verts[f]\n",
    "\n",
    "obj.save(outfile)"
   ]
  },
  {
   "cell_type": "code",
   "execution_count": 4,
   "id": "438c9091",
   "metadata": {},
   "outputs": [
    {
     "name": "stdout",
     "output_type": "stream",
     "text": [
      "Import finished in 1.5941 sec.\n"
     ]
    },
    {
     "data": {
      "text/plain": [
       "{'FINISHED'}"
      ]
     },
     "execution_count": 4,
     "metadata": {},
     "output_type": "execute_result"
    }
   ],
   "source": [
    "# Optional step to apply blender smoothing\n",
    "import bpy\n",
    "\n",
    "bpy.ops.wm.read_factory_settings(use_empty=True)\n",
    "\n",
    "bpy.ops.import_mesh.stl(filepath=outfile)\n",
    "obj_name = bpy.data.objects.keys()[0]\n",
    "obj = bpy.data.objects[obj_name]\n",
    "\n",
    "bpy.context.view_layer.objects.active = obj\n",
    "bpy.ops.object.modifier_add(type=\"CORRECTIVE_SMOOTH\")\n",
    "\n",
    "bpy.context.object.modifiers[\"CorrectiveSmooth\"].scale = 0\n",
    "bpy.ops.export_mesh.stl(filepath=outfile, use_selection=True)\n"
   ]
  },
  {
   "cell_type": "code",
   "execution_count": null,
   "id": "b8f35a1a",
   "metadata": {},
   "outputs": [],
   "source": []
  }
 ],
 "metadata": {
  "kernelspec": {
   "display_name": "Python 3 (ipykernel)",
   "language": "python",
   "name": "python3"
  },
  "language_info": {
   "codemirror_mode": {
    "name": "ipython",
    "version": 3
   },
   "file_extension": ".py",
   "mimetype": "text/x-python",
   "name": "python",
   "nbconvert_exporter": "python",
   "pygments_lexer": "ipython3",
   "version": "3.10.6"
  }
 },
 "nbformat": 4,
 "nbformat_minor": 5
}
